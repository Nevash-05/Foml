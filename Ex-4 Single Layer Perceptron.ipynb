{
 "cells": [
  {
   "cell_type": "markdown",
   "id": "7e56a82f-62b6-4825-9a6e-32b0cc4ddd2d",
   "metadata": {},
   "source": [
    "Ex-4"
   ]
  },
  {
   "cell_type": "code",
   "execution_count": 1,
   "id": "ea510351-4d28-42b4-a821-200d60578edc",
   "metadata": {},
   "outputs": [],
   "source": [
    "import numpy as np"
   ]
  },
  {
   "cell_type": "code",
   "execution_count": 3,
   "id": "b8561322-cef3-4ac7-b98f-a6b74005ded6",
   "metadata": {},
   "outputs": [],
   "source": [
    "X = np.array([[0, 0], [0, 1], [1, 0], [1, 1]]) \n",
    "y = np.array([0, 1, 1, 0])"
   ]
  },
  {
   "cell_type": "code",
   "execution_count": 5,
   "id": "2b30f4ff-e3b8-4ea6-a71b-3abbf07702c2",
   "metadata": {},
   "outputs": [],
   "source": [
    "W = np.random.randn(2) \n",
    "b = np.random.randn()"
   ]
  },
  {
   "cell_type": "code",
   "execution_count": 7,
   "id": "f20537a1-1bfc-41c8-bb09-2c1b51282933",
   "metadata": {},
   "outputs": [],
   "source": [
    "alpha = 0.1\n",
    "epochs = 10000"
   ]
  },
  {
   "cell_type": "code",
   "execution_count": 9,
   "id": "b23d96f9-6b51-46f5-9552-7afc1d65fc67",
   "metadata": {},
   "outputs": [],
   "source": [
    "for epoch in range(epochs):\n",
    "    for i in range(X.shape[0]):\n",
    "        z = np.dot(X[i], W) + b\n",
    "        y_pred = 1 / (1 + np.exp(-z))\n",
    "        error = y[i] - y_pred\n",
    "        W += alpha * error * X[i]\n",
    "        b += alpha * error"
   ]
  },
  {
   "cell_type": "code",
   "execution_count": 11,
   "id": "7938aeab-b417-4d22-97be-fd40ffce5c9f",
   "metadata": {},
   "outputs": [
    {
     "name": "stdout",
     "output_type": "stream",
     "text": [
      "Input: [0 0], Predicted Output: 0.5128176319164417\n",
      "Input: [0 1], Predicted Output: 0.4999999999999999\n",
      "Input: [1 0], Predicted Output: 0.48718236808355836\n",
      "Input: [1 1], Predicted Output: 0.4743815717463979\n"
     ]
    }
   ],
   "source": [
    "for i in range(X.shape[0]):\n",
    "    z = np.dot(X[i], W) + b\n",
    "    y_pred = 1 / (1 + np.exp(-z))\n",
    "    print(f\"Input: {X[i]}, Predicted Output: {y_pred}\")"
   ]
  }
 ],
 "metadata": {
  "kernelspec": {
   "display_name": "Python 3 (ipykernel)",
   "language": "python",
   "name": "python3"
  },
  "language_info": {
   "codemirror_mode": {
    "name": "ipython",
    "version": 3
   },
   "file_extension": ".py",
   "mimetype": "text/x-python",
   "name": "python",
   "nbconvert_exporter": "python",
   "pygments_lexer": "ipython3",
   "version": "3.12.4"
  }
 },
 "nbformat": 4,
 "nbformat_minor": 5
}

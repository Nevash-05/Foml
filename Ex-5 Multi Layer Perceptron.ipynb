{
 "cells": [
  {
   "cell_type": "markdown",
   "id": "e94d285c-811e-47cf-9040-273ecbfeb860",
   "metadata": {},
   "source": [
    "Ex-5"
   ]
  },
  {
   "cell_type": "code",
   "execution_count": 1,
   "id": "e045d996-a923-430d-b44f-d306241b5f7f",
   "metadata": {},
   "outputs": [],
   "source": [
    "import pandas as pd\n",
    "import numpy as np"
   ]
  },
  {
   "cell_type": "code",
   "execution_count": 3,
   "id": "6eacca85-5490-4951-abd2-a999c36b0d6d",
   "metadata": {},
   "outputs": [],
   "source": [
    "from sklearn.model_selection import train_test_split\n",
    "from sklearn.neural_network import MLPClassifier\n",
    "from sklearn.metrics import confusion_matrix, classification_report"
   ]
  },
  {
   "cell_type": "code",
   "execution_count": 5,
   "id": "662f4ed2-9f87-4482-985c-d4eb54d577b3",
   "metadata": {},
   "outputs": [],
   "source": [
    "data = pd.read_csv('csv_files/banknotes.csv')"
   ]
  },
  {
   "cell_type": "code",
   "execution_count": 7,
   "id": "70315214-e665-4c2e-8f0c-f6df133556e5",
   "metadata": {},
   "outputs": [
    {
     "name": "stdout",
     "output_type": "stream",
     "text": [
      "First 10 rows of the dataset:\n",
      "   variance    skew  curtosis  entropy  class\n",
      "0   3.62160  8.6661  -2.80730 -0.44699      0\n",
      "1   4.54590  8.1674  -2.45860 -1.46210      0\n",
      "2   3.86600 -2.6383   1.92420  0.10645      0\n",
      "3   3.45660  9.5228  -4.01120 -3.59440      0\n",
      "4   0.32924 -4.4552   4.57180 -0.98880      0\n",
      "5   4.36840  9.6718  -3.96060 -3.16250      0\n",
      "6   3.59120  3.0129   0.72888  0.56421      0\n",
      "7   2.09220 -6.8100   8.46360 -0.60216      0\n",
      "8   3.20320  5.7588  -0.75345 -0.61251      0\n",
      "9   1.53560  9.1772  -2.27180 -0.73535      0\n"
     ]
    }
   ],
   "source": [
    "print(\"First 10 rows of the dataset:\")\n",
    "print(data.head(10))"
   ]
  },
  {
   "cell_type": "code",
   "execution_count": 9,
   "id": "ea231e18-a80e-42a4-ab80-804518c53dc5",
   "metadata": {},
   "outputs": [
    {
     "name": "stdout",
     "output_type": "stream",
     "text": [
      "\n",
      "Dataset Dimensions:\n",
      "(1372, 5)\n"
     ]
    }
   ],
   "source": [
    "print(\"\\nDataset Dimensions:\")\n",
    "print(data.shape)"
   ]
  },
  {
   "cell_type": "code",
   "execution_count": 11,
   "id": "a7ed6c25-c041-46b1-a83a-a17fc08e6341",
   "metadata": {},
   "outputs": [
    {
     "name": "stdout",
     "output_type": "stream",
     "text": [
      "\n",
      "Descriptive Statistics:\n",
      "          variance         skew     curtosis      entropy        class\n",
      "count  1372.000000  1372.000000  1372.000000  1372.000000  1372.000000\n",
      "mean      0.433735     1.922353     1.397627    -1.191657     0.444606\n",
      "std       2.842763     5.869047     4.310030     2.101013     0.497103\n",
      "min      -7.042100   -13.773100    -5.286100    -8.548200     0.000000\n",
      "25%      -1.773000    -1.708200    -1.574975    -2.413450     0.000000\n",
      "50%       0.496180     2.319650     0.616630    -0.586650     0.000000\n",
      "75%       2.821475     6.814625     3.179250     0.394810     1.000000\n",
      "max       6.824800    12.951600    17.927400     2.449500     1.000000\n"
     ]
    }
   ],
   "source": [
    "print(\"\\nDescriptive Statistics:\")\n",
    "print(data.describe())"
   ]
  },
  {
   "cell_type": "code",
   "execution_count": 13,
   "id": "7605935c-bbe3-450b-9ffb-bea16ea9d746",
   "metadata": {},
   "outputs": [],
   "source": [
    "X = data.drop(columns='class')\n",
    "y = data['class']"
   ]
  },
  {
   "cell_type": "code",
   "execution_count": 15,
   "id": "86cbf032-b271-4b90-90c1-aa8e5c71e965",
   "metadata": {},
   "outputs": [],
   "source": [
    "x_train, x_test, y_train, y_test = train_test_split(X, y, test_size=0.2, random_state=42)\n",
    "clf = MLPClassifier(max_iter=500, activation='relu', random_state=42)\n",
    "clf.fit(x_train, y_train)\n",
    "pred = clf.predict(x_test)"
   ]
  },
  {
   "cell_type": "code",
   "execution_count": 17,
   "id": "ee04a454-da0a-40e0-ad84-242ef725d9ed",
   "metadata": {},
   "outputs": [
    {
     "name": "stdout",
     "output_type": "stream",
     "text": [
      "\n",
      "Predictions with ReLU activation:\n",
      "[0 0 0 0 0 0 0 0 0 0 1 1 0 1 0 1 1 1 1 1 0 0 1 0 1 0 0 1 0 0 1 0 0 1 1 0 1\n",
      " 1 1 0 0 1 1 0 1 1 1 0 0 1 0 0 0 0 0 1 0 0 0 0 1 0 1 0 0 0 0 0 0 1 1 0 1 0\n",
      " 1 0 0 1 1 1 1 0 1 0 0 0 0 1 1 0 0 0 1 1 0 1 1 0 0 0 1 0 0 0 1 0 0 1 1 1 1\n",
      " 1 0 1 1 1 0 1 1 0 1 0 1 0 1 0 1 1 0 1 1 0 0 0 0 0 1 0 0 0 0 0 1 0 1 1 1 1\n",
      " 1 0 1 1 1 0 1 0 1 0 0 0 1 1 1 1 1 0 1 0 0 0 0 0 0 1 0 0 1 1 0 0 0 0 1 0 1\n",
      " 0 1 1 0 0 1 0 0 1 1 1 1 0 0 1 1 1 0 0 1 1 1 1 0 0 0 0 0 0 0 0 0 0 1 1 1 1\n",
      " 1 0 1 0 0 1 1 1 1 0 1 0 1 1 1 1 0 0 0 1 0 1 1 1 0 0 0 0 0 0 1 0 1 0 0 0 1\n",
      " 1 0 0 0 1 1 0 1 0 1 1 1 1 0 0 0]\n"
     ]
    }
   ],
   "source": [
    "print(\"\\nPredictions with ReLU activation:\")\n",
    "print(pred)"
   ]
  },
  {
   "cell_type": "code",
   "execution_count": 19,
   "id": "13031490-7ca9-4212-b644-f4928dd3d25c",
   "metadata": {},
   "outputs": [
    {
     "name": "stdout",
     "output_type": "stream",
     "text": [
      "\n",
      "Confusion Matrix:\n",
      "[[148   0]\n",
      " [  0 127]]\n"
     ]
    }
   ],
   "source": [
    "cm = confusion_matrix(y_test, pred)\n",
    "print(\"\\nConfusion Matrix:\")\n",
    "print(cm)"
   ]
  },
  {
   "cell_type": "code",
   "execution_count": 21,
   "id": "d696b2b6-926f-42e4-a392-4757a82e3830",
   "metadata": {},
   "outputs": [
    {
     "name": "stdout",
     "output_type": "stream",
     "text": [
      "\n",
      "Classification Report:\n",
      "              precision    recall  f1-score   support\n",
      "\n",
      "           0       1.00      1.00      1.00       148\n",
      "           1       1.00      1.00      1.00       127\n",
      "\n",
      "    accuracy                           1.00       275\n",
      "   macro avg       1.00      1.00      1.00       275\n",
      "weighted avg       1.00      1.00      1.00       275\n",
      "\n"
     ]
    }
   ],
   "source": [
    "cr = classification_report(y_test, pred)\n",
    "print(\"\\nClassification Report:\")\n",
    "print(cr)"
   ]
  },
  {
   "cell_type": "code",
   "execution_count": 23,
   "id": "455d32a1-3da2-4b67-9ad3-3ffa15c59acb",
   "metadata": {},
   "outputs": [],
   "source": [
    "x_train, x_test, y_train, y_test = train_test_split(X, y, test_size=0.3, random_state=42)\n",
    "clf = MLPClassifier(max_iter=500, activation='relu', random_state=42)\n",
    "clf.fit(x_train, y_train)\n",
    "pred = clf.predict(x_test)"
   ]
  },
  {
   "cell_type": "code",
   "execution_count": 25,
   "id": "9cc1e79d-641d-47d8-aa88-994fc1437ec1",
   "metadata": {},
   "outputs": [
    {
     "name": "stdout",
     "output_type": "stream",
     "text": [
      "\n",
      "Confusion Matrix with ReLU activation (70-30 split):\n",
      "[[229   0]\n",
      " [  0 183]]\n"
     ]
    }
   ],
   "source": [
    "print(\"\\nConfusion Matrix with ReLU activation (70-30 split):\")\n",
    "print(confusion_matrix(y_test, pred))"
   ]
  },
  {
   "cell_type": "code",
   "execution_count": 27,
   "id": "476283af-c8a4-493b-938d-e0d1a95902ca",
   "metadata": {},
   "outputs": [
    {
     "name": "stdout",
     "output_type": "stream",
     "text": [
      "\n",
      "Classification Report with ReLU activation (70-30 split):\n",
      "              precision    recall  f1-score   support\n",
      "\n",
      "           0       1.00      1.00      1.00       229\n",
      "           1       1.00      1.00      1.00       183\n",
      "\n",
      "    accuracy                           1.00       412\n",
      "   macro avg       1.00      1.00      1.00       412\n",
      "weighted avg       1.00      1.00      1.00       412\n",
      "\n"
     ]
    }
   ],
   "source": [
    "print(\"\\nClassification Report with ReLU activation (70-30 split):\")\n",
    "print(classification_report(y_test, pred))"
   ]
  },
  {
   "cell_type": "code",
   "execution_count": 29,
   "id": "40e3cad9-9862-4bf0-83e2-8bddb04efb98",
   "metadata": {},
   "outputs": [],
   "source": [
    "clf = MLPClassifier(max_iter=500, activation='logistic', random_state=42)\n",
    "clf.fit(x_train, y_train)\n",
    "pred = clf.predict(x_test)"
   ]
  },
  {
   "cell_type": "code",
   "execution_count": 31,
   "id": "182cdc22-502d-4150-999c-0dfa1d62f8ca",
   "metadata": {},
   "outputs": [
    {
     "name": "stdout",
     "output_type": "stream",
     "text": [
      "\n",
      "Confusion Matrix with Logistic activation (70-30 split):\n",
      "[[229   0]\n",
      " [  1 182]]\n"
     ]
    }
   ],
   "source": [
    "print(\"\\nConfusion Matrix with Logistic activation (70-30 split):\")\n",
    "print(confusion_matrix(y_test, pred))"
   ]
  },
  {
   "cell_type": "code",
   "execution_count": 33,
   "id": "77c8ef36-344c-4e33-acf2-d49fb3e46534",
   "metadata": {},
   "outputs": [
    {
     "name": "stdout",
     "output_type": "stream",
     "text": [
      "\n",
      "Classification Report with Logistic activation (70-30 split):\n",
      "              precision    recall  f1-score   support\n",
      "\n",
      "           0       1.00      1.00      1.00       229\n",
      "           1       1.00      0.99      1.00       183\n",
      "\n",
      "    accuracy                           1.00       412\n",
      "   macro avg       1.00      1.00      1.00       412\n",
      "weighted avg       1.00      1.00      1.00       412\n",
      "\n"
     ]
    }
   ],
   "source": [
    "3\n",
    "print(\"\\nClassification Report with Logistic activation (70-30 split):\")\n",
    "print(classification_report(y_test, pred))"
   ]
  },
  {
   "cell_type": "code",
   "execution_count": 35,
   "id": "3636a0f6-1dbb-4bb1-b66c-c3b728579e94",
   "metadata": {},
   "outputs": [],
   "source": [
    "clf = MLPClassifier(max_iter=500, activation='tanh', random_state=42)\n",
    "clf.fit(x_train, y_train)\n",
    "pred = clf.predict(x_test)"
   ]
  },
  {
   "cell_type": "code",
   "execution_count": 37,
   "id": "e92077a7-e78f-40ff-99c9-de6d55ce5e87",
   "metadata": {},
   "outputs": [
    {
     "name": "stdout",
     "output_type": "stream",
     "text": [
      "\n",
      "Confusion Matrix with Tanh activation (70-30 split):\n",
      "[[229   0]\n",
      " [  0 183]]\n"
     ]
    }
   ],
   "source": [
    "print(\"\\nConfusion Matrix with Tanh activation (70-30 split):\")\n",
    "print(confusion_matrix(y_test, pred))"
   ]
  },
  {
   "cell_type": "code",
   "execution_count": 39,
   "id": "4066f58e-40c1-4a66-8d70-b8e012893273",
   "metadata": {},
   "outputs": [
    {
     "name": "stdout",
     "output_type": "stream",
     "text": [
      "\n",
      "Classification Report with Tanh activation (70-30 split):\n",
      "              precision    recall  f1-score   support\n",
      "\n",
      "           0       1.00      1.00      1.00       229\n",
      "           1       1.00      1.00      1.00       183\n",
      "\n",
      "    accuracy                           1.00       412\n",
      "   macro avg       1.00      1.00      1.00       412\n",
      "weighted avg       1.00      1.00      1.00       412\n",
      "\n"
     ]
    }
   ],
   "source": [
    "print(\"\\nClassification Report with Tanh activation (70-30 split):\")\n",
    "print(classification_report(y_test, pred))"
   ]
  },
  {
   "cell_type": "code",
   "execution_count": 41,
   "id": "7151c3fa-e76d-4f79-9312-89b7f641941c",
   "metadata": {},
   "outputs": [],
   "source": [
    "clf = MLPClassifier(max_iter=500, activation='identity', random_state=42)\n",
    "clf.fit(x_train, y_train)\n",
    "pred = clf.predict(x_test)"
   ]
  },
  {
   "cell_type": "code",
   "execution_count": 43,
   "id": "b394d08c-6180-4fc3-afa9-ed7f57d7e5f6",
   "metadata": {},
   "outputs": [
    {
     "name": "stdout",
     "output_type": "stream",
     "text": [
      "\n",
      "Confusion Matrix with Identity activation (70-30 split):\n",
      "[[226   3]\n",
      " [  2 181]]\n"
     ]
    }
   ],
   "source": [
    "print(\"\\nConfusion Matrix with Identity activation (70-30 split):\")\n",
    "print(confusion_matrix(y_test, pred))"
   ]
  },
  {
   "cell_type": "code",
   "execution_count": 45,
   "id": "02980863-f584-4863-b92e-f4b5382dbfa4",
   "metadata": {},
   "outputs": [
    {
     "name": "stdout",
     "output_type": "stream",
     "text": [
      "\n",
      "Classification Report with Identity activation (70-30 split):\n",
      "              precision    recall  f1-score   support\n",
      "\n",
      "           0       0.99      0.99      0.99       229\n",
      "           1       0.98      0.99      0.99       183\n",
      "\n",
      "    accuracy                           0.99       412\n",
      "   macro avg       0.99      0.99      0.99       412\n",
      "weighted avg       0.99      0.99      0.99       412\n",
      "\n"
     ]
    }
   ],
   "source": [
    "print(\"\\nClassification Report with Identity activation (70-30 split):\")\n",
    "print(classification_report(y_test, pred))"
   ]
  },
  {
   "cell_type": "code",
   "execution_count": 47,
   "id": "88a0ceb2-ea40-402f-a124-6132f43b9655",
   "metadata": {},
   "outputs": [],
   "source": [
    "x_train, x_test, y_train, y_test = train_test_split(X, y, test_size=0.3, random_state=42)\n",
    "clf = MLPClassifier(max_iter=500, activation='relu', random_state=42)\n",
    "clf.fit(x_train, y_train)\n",
    "pred = clf.predict(x_test)"
   ]
  },
  {
   "cell_type": "code",
   "execution_count": 49,
   "id": "8c97fafb-ab59-4584-b9a0-393898ab10c2",
   "metadata": {},
   "outputs": [
    {
     "name": "stdout",
     "output_type": "stream",
     "text": [
      "\n",
      "Confusion Matrix with ReLU activation (70-30 split):\n",
      "[[229   0]\n",
      " [  0 183]]\n"
     ]
    }
   ],
   "source": [
    "print(\"\\nConfusion Matrix with ReLU activation (70-30 split):\")\n",
    "print(confusion_matrix(y_test, pred))"
   ]
  },
  {
   "cell_type": "code",
   "execution_count": 51,
   "id": "734f9c97-a5ca-49b5-b50e-9cf3f8c93033",
   "metadata": {},
   "outputs": [
    {
     "name": "stdout",
     "output_type": "stream",
     "text": [
      "\n",
      "Classification Report with ReLU activation (70-30 split):\n",
      "              precision    recall  f1-score   support\n",
      "\n",
      "           0       1.00      1.00      1.00       229\n",
      "           1       1.00      1.00      1.00       183\n",
      "\n",
      "    accuracy                           1.00       412\n",
      "   macro avg       1.00      1.00      1.00       412\n",
      "weighted avg       1.00      1.00      1.00       412\n",
      "\n"
     ]
    }
   ],
   "source": [
    "print(\"\\nClassification Report with ReLU activation (70-30 split):\")\n",
    "print(classification_report(y_test, pred))"
   ]
  },
  {
   "cell_type": "code",
   "execution_count": 53,
   "id": "9355f30d-72ea-44a6-a385-0c1bee6f8f11",
   "metadata": {},
   "outputs": [],
   "source": [
    "clf = MLPClassifier(max_iter=500, activation='logistic', random_state=42)\n",
    "clf.fit(x_train, y_train)\n",
    "pred = clf.predict(x_test)"
   ]
  },
  {
   "cell_type": "code",
   "execution_count": 55,
   "id": "3d09610f-977c-4bcd-b54e-26d7ccaa63db",
   "metadata": {},
   "outputs": [
    {
     "name": "stdout",
     "output_type": "stream",
     "text": [
      "\n",
      "Confusion Matrix with Logistic activation (70-30 split):\n",
      "[[229   0]\n",
      " [  1 182]]\n"
     ]
    }
   ],
   "source": [
    "print(\"\\nConfusion Matrix with Logistic activation (70-30 split):\")\n",
    "print(confusion_matrix(y_test, pred))"
   ]
  },
  {
   "cell_type": "code",
   "execution_count": 57,
   "id": "dbb0509a-5627-4ca4-906b-65a6d26fb614",
   "metadata": {},
   "outputs": [
    {
     "name": "stdout",
     "output_type": "stream",
     "text": [
      "\n",
      "Classification Report with Logistic activation (70-30 split):\n",
      "              precision    recall  f1-score   support\n",
      "\n",
      "           0       1.00      1.00      1.00       229\n",
      "           1       1.00      0.99      1.00       183\n",
      "\n",
      "    accuracy                           1.00       412\n",
      "   macro avg       1.00      1.00      1.00       412\n",
      "weighted avg       1.00      1.00      1.00       412\n",
      "\n"
     ]
    }
   ],
   "source": [
    "print(\"\\nClassification Report with Logistic activation (70-30 split):\")\n",
    "print(classification_report(y_test, pred))"
   ]
  },
  {
   "cell_type": "code",
   "execution_count": 59,
   "id": "ead60bd3-3152-4ab7-98c1-cd5e28bf6d0a",
   "metadata": {},
   "outputs": [],
   "source": [
    "clf = MLPClassifier(max_iter=500, activation='tanh', random_state=42)\n",
    "clf.fit(x_train, y_train)\n",
    "pred = clf.predict(x_test)"
   ]
  },
  {
   "cell_type": "code",
   "execution_count": 61,
   "id": "b37d4d23-1b56-4fc1-87ea-11fac94b2432",
   "metadata": {},
   "outputs": [
    {
     "name": "stdout",
     "output_type": "stream",
     "text": [
      "\n",
      "Confusion Matrix with Tanh activation (70-30 split):\n",
      "[[229   0]\n",
      " [  0 183]]\n"
     ]
    }
   ],
   "source": [
    "print(\"\\nConfusion Matrix with Tanh activation (70-30 split):\")\n",
    "print(confusion_matrix(y_test, pred))"
   ]
  },
  {
   "cell_type": "code",
   "execution_count": 63,
   "id": "d51332d5-71f6-4ef7-a639-ba9e883aca48",
   "metadata": {},
   "outputs": [
    {
     "name": "stdout",
     "output_type": "stream",
     "text": [
      "\n",
      "Classification Report with Tanh activation (70-30 split):\n",
      "              precision    recall  f1-score   support\n",
      "\n",
      "           0       1.00      1.00      1.00       229\n",
      "           1       1.00      1.00      1.00       183\n",
      "\n",
      "    accuracy                           1.00       412\n",
      "   macro avg       1.00      1.00      1.00       412\n",
      "weighted avg       1.00      1.00      1.00       412\n",
      "\n"
     ]
    }
   ],
   "source": [
    "print(\"\\nClassification Report with Tanh activation (70-30 split):\")\n",
    "print(classification_report(y_test, pred))"
   ]
  },
  {
   "cell_type": "code",
   "execution_count": 65,
   "id": "c6237d42-ec0e-40f7-8f6f-46242461d096",
   "metadata": {},
   "outputs": [],
   "source": [
    "clf = MLPClassifier(max_iter=500, activation='identity', random_state=42)\n",
    "clf.fit(x_train, y_train)\n",
    "pred = clf.predict(x_test)"
   ]
  },
  {
   "cell_type": "code",
   "execution_count": 67,
   "id": "e07768e0-b997-47f6-8772-39e43d1e8a97",
   "metadata": {},
   "outputs": [
    {
     "name": "stdout",
     "output_type": "stream",
     "text": [
      "\n",
      "Confusion Matrix with Identity activation (70-30 split):\n",
      "[[226   3]\n",
      " [  2 181]]\n"
     ]
    }
   ],
   "source": [
    "print(\"\\nConfusion Matrix with Identity activation (70-30 split):\")\n",
    "print(confusion_matrix(y_test, pred))"
   ]
  },
  {
   "cell_type": "code",
   "execution_count": 69,
   "id": "27daa71f-995c-439e-9af5-1c728d60a465",
   "metadata": {},
   "outputs": [
    {
     "name": "stdout",
     "output_type": "stream",
     "text": [
      "\n",
      "Classification Report with Identity activation (70-30 split):\n",
      "              precision    recall  f1-score   support\n",
      "\n",
      "           0       0.99      0.99      0.99       229\n",
      "           1       0.98      0.99      0.99       183\n",
      "\n",
      "    accuracy                           0.99       412\n",
      "   macro avg       0.99      0.99      0.99       412\n",
      "weighted avg       0.99      0.99      0.99       412\n",
      "\n"
     ]
    }
   ],
   "source": [
    "print(\"\\nClassification Report with Identity activation (70-30 split):\")\n",
    "print(classification_report(y_test, pred))"
   ]
  }
 ],
 "metadata": {
  "kernelspec": {
   "display_name": "Python 3 (ipykernel)",
   "language": "python",
   "name": "python3"
  },
  "language_info": {
   "codemirror_mode": {
    "name": "ipython",
    "version": 3
   },
   "file_extension": ".py",
   "mimetype": "text/x-python",
   "name": "python",
   "nbconvert_exporter": "python",
   "pygments_lexer": "ipython3",
   "version": "3.12.4"
  }
 },
 "nbformat": 4,
 "nbformat_minor": 5
}
